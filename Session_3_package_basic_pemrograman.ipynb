{
  "nbformat": 4,
  "nbformat_minor": 0,
  "metadata": {
    "colab": {
      "provenance": []
    },
    "kernelspec": {
      "name": "python3",
      "display_name": "Python 3"
    },
    "language_info": {
      "name": "python"
    }
  },
  "cells": [
    {
      "cell_type": "markdown",
      "source": [
        "# Py Boxes"
      ],
      "metadata": {
        "id": "jo9BBlc3SmWP"
      }
    },
    {
      "cell_type": "markdown",
      "source": [
        "## Module: datetime"
      ],
      "metadata": {
        "id": "j_QEC7SMSvZ2"
      }
    },
    {
      "cell_type": "code",
      "source": [
        "import datetime"
      ],
      "metadata": {
        "id": "ll8qHac0R2YH"
      },
      "execution_count": null,
      "outputs": []
    },
    {
      "cell_type": "code",
      "source": [
        "# Mengambil date saat kode ini dijalankan\n",
        "today = datetime.datetime.now()\n",
        "print(today)\n",
        "today_2 = datetime.date.today()\n",
        "print(today_2)"
      ],
      "metadata": {
        "colab": {
          "base_uri": "https://localhost:8080/"
        },
        "id": "e-7TQ6b9TIpX",
        "outputId": "97bbac35-0212-48d0-e11c-9c0f5c457f76"
      },
      "execution_count": null,
      "outputs": [
        {
          "output_type": "stream",
          "name": "stdout",
          "text": [
            "2023-05-03 01:52:36.395769\n",
            "2023-05-03\n"
          ]
        }
      ]
    },
    {
      "cell_type": "code",
      "source": [
        "# melihat tipe data\n",
        "print(type(today))\n",
        "print(type(today_2))"
      ],
      "metadata": {
        "colab": {
          "base_uri": "https://localhost:8080/"
        },
        "id": "xV-DNJQ6TXao",
        "outputId": "1811e522-da00-48db-e526-950a058dbb37"
      },
      "execution_count": null,
      "outputs": [
        {
          "output_type": "stream",
          "name": "stdout",
          "text": [
            "<class 'datetime.datetime'>\n",
            "<class 'datetime.date'>\n"
          ]
        }
      ]
    },
    {
      "cell_type": "code",
      "source": [
        "# fungsi yang ada pada datetime\n",
        "\n",
        "# mengubah bentuk dari date menjadi string\n",
        "# dapat mengecek format yang diingan pada dokumen python strftime format\n",
        "today.strftime('%d-%m-%Y')"
      ],
      "metadata": {
        "colab": {
          "base_uri": "https://localhost:8080/",
          "height": 35
        },
        "id": "FY0r3kxzUDqi",
        "outputId": "25086de5-597f-49f9-f8e3-89a540af17ad"
      },
      "execution_count": null,
      "outputs": [
        {
          "output_type": "execute_result",
          "data": {
            "text/plain": [
              "'03-05-2023'"
            ],
            "application/vnd.google.colaboratory.intrinsic+json": {
              "type": "string"
            }
          },
          "metadata": {},
          "execution_count": 10
        }
      ]
    },
    {
      "cell_type": "code",
      "source": [
        "today.strftime('%A, %d %B %Y')"
      ],
      "metadata": {
        "colab": {
          "base_uri": "https://localhost:8080/",
          "height": 35
        },
        "id": "PTBN1WvBUrlU",
        "outputId": "2e9047e0-4c43-41dd-eac3-7b3115f9d1e3"
      },
      "execution_count": null,
      "outputs": [
        {
          "output_type": "execute_result",
          "data": {
            "text/plain": [
              "'Wednesday, 03 May 2023'"
            ],
            "application/vnd.google.colaboratory.intrinsic+json": {
              "type": "string"
            }
          },
          "metadata": {},
          "execution_count": 12
        }
      ]
    },
    {
      "cell_type": "code",
      "source": [
        "# mengambil part dari date\n",
        "year = today.year\n",
        "month = today.month\n",
        "day = today.day\n",
        "\n",
        "print(f'Hari ini tahun {year} bulan {month} tanggal {day}')"
      ],
      "metadata": {
        "colab": {
          "base_uri": "https://localhost:8080/"
        },
        "id": "e7x99S8EVc-5",
        "outputId": "4969cef2-be7d-4318-bd2f-8d6828755b22"
      },
      "execution_count": null,
      "outputs": [
        {
          "output_type": "stream",
          "name": "stdout",
          "text": [
            "Hari ini tahun 2023 bulan 5 tanggal 3\n"
          ]
        }
      ]
    },
    {
      "cell_type": "code",
      "source": [
        "# membuat objek date\n",
        "tanggal_lahir = datetime.datetime(2002, 3, 26)\n",
        "print(tanggal_lahir)"
      ],
      "metadata": {
        "colab": {
          "base_uri": "https://localhost:8080/"
        },
        "id": "pS_D2Jv0WInN",
        "outputId": "e8e9a7bc-552b-4e3b-a598-4de802d922f8"
      },
      "execution_count": null,
      "outputs": [
        {
          "output_type": "stream",
          "name": "stdout",
          "text": [
            "2002-03-26 00:00:00\n"
          ]
        }
      ]
    },
    {
      "cell_type": "markdown",
      "source": [
        "## Library: Numpy"
      ],
      "metadata": {
        "id": "vKvqIDCtW01t"
      }
    },
    {
      "cell_type": "code",
      "source": [
        "# import library\n",
        "import numpy as np"
      ],
      "metadata": {
        "id": "IhF8nU_8Wmhs"
      },
      "execution_count": null,
      "outputs": []
    },
    {
      "cell_type": "code",
      "source": [
        "# membuat array\n",
        "x = np.array(50)\n",
        "y = np.array('Uzumaki Naruto')\n",
        "bilangan_genap = np.array([2, 4, 6, 8, 10])\n",
        "bilangan_ganjil = np.array([1, 3, 5, 7, 9])\n",
        "print(bilangan_ganjil)\n",
        "print(bilangan_genap)"
      ],
      "metadata": {
        "colab": {
          "base_uri": "https://localhost:8080/"
        },
        "id": "EVTDFhXSZf9A",
        "outputId": "e0c8779d-8cf9-4452-c17b-87b893d5b0c5"
      },
      "execution_count": null,
      "outputs": [
        {
          "output_type": "stream",
          "name": "stdout",
          "text": [
            "[1 3 5 7 9]\n",
            "[ 2  4  6  8 10]\n"
          ]
        }
      ]
    },
    {
      "cell_type": "code",
      "source": [
        "# multidimensional array\n",
        "bilangan = np.array(\n",
        "    [\n",
        "       [2, 4, 6, 8, 10],\n",
        "       [1, 3, 5, 7, 9] #dimesi 2 x 5 (2 baris dan 5 kolom)\n",
        "    ]\n",
        ")\n",
        "bilangan"
      ],
      "metadata": {
        "colab": {
          "base_uri": "https://localhost:8080/"
        },
        "id": "kucpa8tJZ7hW",
        "outputId": "d284fdce-7a5c-4119-cebf-cd1ccc2a484e"
      },
      "execution_count": null,
      "outputs": [
        {
          "output_type": "execute_result",
          "data": {
            "text/plain": [
              "array([[ 2,  4,  6,  8, 10],\n",
              "       [ 1,  3,  5,  7,  9]])"
            ]
          },
          "metadata": {},
          "execution_count": 23
        }
      ]
    },
    {
      "cell_type": "code",
      "source": [
        "# 3 bisa tapi nanti ada fungsi yang tidak dapat digunakan\n",
        "nomor = np.array(\n",
        "    [\n",
        "       [2, 4, 6, 8],\n",
        "       [1, 3, 5, 7, 9]\n",
        "    ]\n",
        ")\n",
        "nomor"
      ],
      "metadata": {
        "colab": {
          "base_uri": "https://localhost:8080/"
        },
        "id": "JTnB0urVbLYD",
        "outputId": "c768d590-a14c-41dd-99a6-192f85dc1a35"
      },
      "execution_count": null,
      "outputs": [
        {
          "output_type": "stream",
          "name": "stderr",
          "text": [
            "<ipython-input-26-b0df9e651496>:2: VisibleDeprecationWarning: Creating an ndarray from ragged nested sequences (which is a list-or-tuple of lists-or-tuples-or ndarrays with different lengths or shapes) is deprecated. If you meant to do this, you must specify 'dtype=object' when creating the ndarray.\n",
            "  nomor = np.array(\n"
          ]
        },
        {
          "output_type": "execute_result",
          "data": {
            "text/plain": [
              "array([list([2, 4, 6, 8]), list([1, 3, 5, 7, 9])], dtype=object)"
            ]
          },
          "metadata": {},
          "execution_count": 26
        }
      ]
    },
    {
      "cell_type": "code",
      "source": [
        "# perbedaa array dengan list\n",
        "list_bilangan_genap = [2,  4,  6,  8, 10]\n",
        "\n",
        "print(list_bilangan_genap * 2) # kalo di kali jadi duplikat\n",
        "print(bilangan_genap * 2) # kalo di array jadinya setiap elemennya yang dikali dua"
      ],
      "metadata": {
        "colab": {
          "base_uri": "https://localhost:8080/"
        },
        "id": "fuYvGSrob5BX",
        "outputId": "e2c6571e-f59e-4bb0-b63d-1e333954b0e3"
      },
      "execution_count": null,
      "outputs": [
        {
          "output_type": "stream",
          "name": "stdout",
          "text": [
            "[2, 4, 6, 8, 10, 2, 4, 6, 8, 10]\n",
            "[ 4  8 12 16 20]\n"
          ]
        }
      ]
    },
    {
      "cell_type": "code",
      "source": [
        "print(list_bilangan_genap)\n",
        "print(bilangan_genap + 2)"
      ],
      "metadata": {
        "colab": {
          "base_uri": "https://localhost:8080/"
        },
        "id": "elGRxYTdcTwO",
        "outputId": "c7adc27d-511d-4f53-cb36-6bd59e39cb8d"
      },
      "execution_count": null,
      "outputs": [
        {
          "output_type": "stream",
          "name": "stdout",
          "text": [
            "[2, 4, 6, 8, 10]\n",
            "[ 4  6  8 10 12]\n"
          ]
        }
      ]
    },
    {
      "cell_type": "code",
      "source": [
        "# Operasi array\n",
        "nilai_mahasiswa = np.array([90, 97, 50, 45, 80, 86, 77, 100, 20])\n",
        "list_nilai_mahasiswa = [90, 97, 50, 45, 80, 86, 77, 100, 20]"
      ],
      "metadata": {
        "id": "MsG-IVnXclIB"
      },
      "execution_count": null,
      "outputs": []
    },
    {
      "cell_type": "code",
      "source": [
        "print(np.sum(nilai_mahasiswa))\n",
        "print(sum(list_nilai_mahasiswa))"
      ],
      "metadata": {
        "colab": {
          "base_uri": "https://localhost:8080/"
        },
        "id": "hQtlusIfddon",
        "outputId": "793b4fc7-031a-410a-ad6e-45c8c3783713"
      },
      "execution_count": null,
      "outputs": [
        {
          "output_type": "stream",
          "name": "stdout",
          "text": [
            "645\n",
            "645\n"
          ]
        }
      ]
    },
    {
      "cell_type": "code",
      "source": [
        "print(np.min(nilai_mahasiswa))\n",
        "print(sum(list_nilai_mahasiswa))"
      ],
      "metadata": {
        "colab": {
          "base_uri": "https://localhost:8080/"
        },
        "id": "la_UhgQ-dt5s",
        "outputId": "86397653-34df-4dd6-daa4-d8620a217d5b"
      },
      "execution_count": null,
      "outputs": [
        {
          "output_type": "stream",
          "name": "stdout",
          "text": [
            "20\n",
            "645\n"
          ]
        }
      ]
    },
    {
      "cell_type": "code",
      "source": [
        "print(np.mean(nilai_mahasiswa))\n",
        "# print(mean(list_nilai_mahasiswa))"
      ],
      "metadata": {
        "colab": {
          "base_uri": "https://localhost:8080/"
        },
        "id": "dtp3AeKhdznL",
        "outputId": "247b2bf6-94f4-4f11-a1c6-d5211e6259cc"
      },
      "execution_count": null,
      "outputs": [
        {
          "output_type": "stream",
          "name": "stdout",
          "text": [
            "71.66666666666667\n"
          ]
        }
      ]
    },
    {
      "cell_type": "code",
      "source": [
        "print(np.median(nilai_mahasiswa))\n",
        "# print(mean(list_nilai_mahasiswa))"
      ],
      "metadata": {
        "colab": {
          "base_uri": "https://localhost:8080/"
        },
        "id": "sSKh3-R1eGPQ",
        "outputId": "5719fe51-70fd-4e84-8e4f-3e18b0cc3ab8"
      },
      "execution_count": null,
      "outputs": [
        {
          "output_type": "stream",
          "name": "stdout",
          "text": [
            "80.0\n"
          ]
        }
      ]
    },
    {
      "cell_type": "code",
      "source": [
        "print(np.log10(nilai_mahasiswa))"
      ],
      "metadata": {
        "colab": {
          "base_uri": "https://localhost:8080/"
        },
        "id": "EtAu6X5BeMJb",
        "outputId": "a1a94ba4-496e-41a3-b0e9-ebd7fa619963"
      },
      "execution_count": null,
      "outputs": [
        {
          "output_type": "stream",
          "name": "stdout",
          "text": [
            "[1.95424251 1.98677173 1.69897    1.65321251 1.90308999 1.93449845\n",
            " 1.88649073 2.         1.30103   ]\n"
          ]
        }
      ]
    },
    {
      "cell_type": "code",
      "source": [
        "# mengubah dimensi array\n",
        "nilai_mahasiswa # (1 x 9)\n",
        "nilai_mahasiswa.reshape(3,3)"
      ],
      "metadata": {
        "colab": {
          "base_uri": "https://localhost:8080/"
        },
        "id": "ed-WOoDQefm0",
        "outputId": "61def0e0-eee4-43c2-dd08-cb674ed70526"
      },
      "execution_count": null,
      "outputs": [
        {
          "output_type": "execute_result",
          "data": {
            "text/plain": [
              "array([[ 90,  97,  50],\n",
              "       [ 45,  80,  86],\n",
              "       [ 77, 100,  20]])"
            ]
          },
          "metadata": {},
          "execution_count": 41
        }
      ]
    },
    {
      "cell_type": "code",
      "source": [
        "# Challenge time\n",
        "nilai = np.array(\n",
        "    [\n",
        "        [80, 87, 91],\n",
        "        [77, 65, 75],\n",
        "        [59, 60, 47]\n",
        "    ]\n",
        ")\n",
        "\n",
        "print(nilai)\n",
        "# mengubah array menjadi 1 dimensi\n",
        "print(f'array 1 dimensi: {nilai.reshape(1, 9)}')\n",
        "\n",
        "# kalo kita gatau datanya ada berapa bisa menggunakan reshape seperti ini\n",
        "print(f'array 1 dimensi (-1): {nilai.reshape(-1)}')\n",
        "\n",
        "# cek mean lebih besar dari median?\n",
        "mean = np.mean(nilai)\n",
        "median = np.median(nilai)\n",
        "\n",
        "print(f'mean: {mean}')\n",
        "print(f'median: {median}')\n",
        "print(f'mean > median: {mean > median}')\n"
      ],
      "metadata": {
        "colab": {
          "base_uri": "https://localhost:8080/"
        },
        "id": "G1JJwxmEeyto",
        "outputId": "a8121594-61e0-43ba-ac94-03caf28bae40"
      },
      "execution_count": 48,
      "outputs": [
        {
          "output_type": "stream",
          "name": "stdout",
          "text": [
            "[[80 87 91]\n",
            " [77 65 75]\n",
            " [59 60 47]]\n",
            "array 1 dimensi: [[80 87 91 77 65 75 59 60 47]]\n",
            "array 1 dimensi (-1): [80 87 91 77 65 75 59 60 47]\n",
            "mean: 71.22222222222223\n",
            "median: 75.0\n",
            "mean > median: False\n"
          ]
        }
      ]
    },
    {
      "cell_type": "markdown",
      "source": [
        "# Programming Basic\n",
        "## Conditional statment"
      ],
      "metadata": {
        "id": "tI8MKmHzqn07"
      }
    },
    {
      "cell_type": "code",
      "source": [
        "# implementasi 1 kondisi\n",
        "current_status = 'on-delivery'\n",
        "barang_diterima = True\n",
        "\n",
        "if barang_diterima == True:\n",
        "  current_status = 'delivered'\n",
        "\n",
        "print(current_status)"
      ],
      "metadata": {
        "id": "lCYntnlTf6kM",
        "colab": {
          "base_uri": "https://localhost:8080/"
        },
        "outputId": "c0e3c5cb-3c30-4ed7-eca7-4ad2db209ece"
      },
      "execution_count": 51,
      "outputs": [
        {
          "output_type": "stream",
          "name": "stdout",
          "text": [
            "delivered\n"
          ]
        }
      ]
    },
    {
      "cell_type": "code",
      "source": [
        "# implementasi 2 kondisi\n",
        "x = 15\n",
        "\n",
        "if x > 5:\n",
        "  print('x lebih besar dari 5')\n",
        "else:\n",
        "  print('x tidak lebih besar dari 5')"
      ],
      "metadata": {
        "colab": {
          "base_uri": "https://localhost:8080/"
        },
        "id": "V87Q8DLsrZIr",
        "outputId": "c5195513-75c9-4385-b2a2-55b468da172a"
      },
      "execution_count": 56,
      "outputs": [
        {
          "output_type": "stream",
          "name": "stdout",
          "text": [
            "x lebih besar dari 5\n"
          ]
        }
      ]
    },
    {
      "cell_type": "code",
      "source": [
        "# implementasi 3 kondisi\n",
        "x  = 100\n",
        "\n",
        "if x > 10:\n",
        "  print('x lebih besar dari 10')\n",
        "elif x == 10:\n",
        "  print('x sama dengan 10')\n",
        "else:\n",
        "  print('x lebih kecil dari 10')"
      ],
      "metadata": {
        "colab": {
          "base_uri": "https://localhost:8080/"
        },
        "id": "ec6GIXGbsTgL",
        "outputId": "89dbdf6d-ee65-473e-ed43-e6cc9c8fdf4e"
      },
      "execution_count": 59,
      "outputs": [
        {
          "output_type": "stream",
          "name": "stdout",
          "text": [
            "x lebih kecil dari 10\n"
          ]
        }
      ]
    },
    {
      "cell_type": "code",
      "source": [
        "# data nilai \n",
        "nilai = [90, 85, 55, 47, 87, 90, 65]\n",
        "\n",
        "# ingin mengklasifikasikan rata - rata dari nilai tersebut\n",
        "# jika rata - rata >= 90 maka rapot = 'A'\n",
        "# jika rata - rata >= 80 maka rapot = 'B'\n",
        "# jika rata - rata >= 70 maka rapot = 'C'\n",
        "# jika rata - rata >= 60 maka rapot = 'D'\n",
        "# # jika rata - rata < 60 maka rapot = 'E'\n",
        "\n",
        "mean = sum(nilai) / len(nilai)\n",
        "print(f'nilai rata - rata: {mean}')\n",
        "\n",
        "if mean >= 90:\n",
        "  print('nilai raport: A')\n",
        "elif mean >= 80:\n",
        "  print('nilai raport: B')\n",
        "elif mean >= 70:\n",
        "  print('nilai raport: C')\n",
        "elif mean >= 60:\n",
        "  print('nilai raport: D')\n",
        "else:\n",
        "  print('nilai raport: E')"
      ],
      "metadata": {
        "colab": {
          "base_uri": "https://localhost:8080/"
        },
        "id": "hHURCU8Ds_8A",
        "outputId": "e2261866-037d-4829-b7c2-c5ef57b83a8f"
      },
      "execution_count": 62,
      "outputs": [
        {
          "output_type": "stream",
          "name": "stdout",
          "text": [
            "nilai rata - rata: 74.14285714285714\n",
            "nilai raport: C\n"
          ]
        }
      ]
    },
    {
      "cell_type": "code",
      "source": [
        "# jika dijadikan array\n",
        "nilai = np.array(nilai)\n",
        "mean = np.mean(nilai)\n",
        "print(f'nilai rata - rata: {mean}')\n",
        "\n",
        "if mean >= 90:\n",
        "  print('nilai raport: A')\n",
        "elif mean >= 80:\n",
        "  print('nilai raport: B')\n",
        "elif mean >= 70:\n",
        "  print('nilai raport: C')\n",
        "elif mean >= 60:\n",
        "  print('nilai raport: D')\n",
        "else:\n",
        "  print('nilai raport: E')"
      ],
      "metadata": {
        "colab": {
          "base_uri": "https://localhost:8080/"
        },
        "id": "u5tGKIXFvtM5",
        "outputId": "01808747-f9c5-4fcc-accc-5793864b5174"
      },
      "execution_count": 63,
      "outputs": [
        {
          "output_type": "stream",
          "name": "stdout",
          "text": [
            "nilai rata - rata: 74.14285714285714\n",
            "nilai raport: C\n"
          ]
        }
      ]
    },
    {
      "cell_type": "code",
      "source": [
        "# Nested IF\n",
        "prefered_genre = 'anime'\n",
        "wacth_ads = True\n",
        "\n",
        "if prefered_genre == 'drama':\n",
        "  if wacth_ads:\n",
        "    service = 'service A (with ads)'\n",
        "  else:\n",
        "    service = 'service B (no ads)'\n",
        "elif prefered_genre == 'action':\n",
        "  if wacth_ads:\n",
        "    service = 'service C (with ads)'\n",
        "  else:\n",
        "    service = 'service D (no ads)'\n",
        "else:\n",
        "  service = 'service e'\n",
        "\n",
        "print(f'preferd genre: {prefered_genre}')\n",
        "print(f'watch ads: {wacth_ads}')\n",
        "print(f'streaming service: {service}')"
      ],
      "metadata": {
        "colab": {
          "base_uri": "https://localhost:8080/"
        },
        "id": "fFpYJadfxdGm",
        "outputId": "d1ec2fa0-c27e-4fec-e0ee-e6cad747e347"
      },
      "execution_count": 65,
      "outputs": [
        {
          "output_type": "stream",
          "name": "stdout",
          "text": [
            "preferd genre: anime\n",
            "watch ads: True\n",
            "streaming service: service e\n"
          ]
        }
      ]
    },
    {
      "cell_type": "code",
      "source": [
        "# ternary operator / one line condition statment\n",
        "age = 60\n",
        "\n",
        "discount_eligible = 'Yes' if age >=60 else 'No'\n",
        "\n",
        "print(f'age: {age} is eligible for discount: {discount_eligible}')"
      ],
      "metadata": {
        "colab": {
          "base_uri": "https://localhost:8080/"
        },
        "id": "mo6ELoXuzjAc",
        "outputId": "71173dac-20a8-49cc-fa29-9becde6ac484"
      },
      "execution_count": 66,
      "outputs": [
        {
          "output_type": "stream",
          "name": "stdout",
          "text": [
            "age: 60 is eligible for discount: Yes\n"
          ]
        }
      ]
    },
    {
      "cell_type": "code",
      "source": [
        "# number = 42\n",
        "# gunakan one line conditional untuk menentukan number itu genap atau ganjil\n",
        "\n",
        "number = 42\n",
        "\n",
        "bilangan = 'genap' if number % 2 == 0 else 'ganjil'\n",
        "\n",
        "print(f'bilangan {number} merupakan bilangan {bilangan}')"
      ],
      "metadata": {
        "colab": {
          "base_uri": "https://localhost:8080/"
        },
        "id": "rl7EhZSX0y20",
        "outputId": "a9dc424f-0a1b-41b1-c860-11849119d42d"
      },
      "execution_count": 70,
      "outputs": [
        {
          "output_type": "stream",
          "name": "stdout",
          "text": [
            "bilangan 42 merupakan bilangan genap\n"
          ]
        }
      ]
    },
    {
      "cell_type": "code",
      "source": [
        "temp = int(input('masukkan nilai temperature dalam celcius: '))\n",
        "\n",
        "if temp < 0:\n",
        "  classification = 'Freezing'\n",
        "elif temp < 10:\n",
        "  classification = 'Cold'\n",
        "elif temp < 20:\n",
        "  classification = 'Mild'\n",
        "elif temp < 30:\n",
        "  classification = 'Warm'\n",
        "else:\n",
        "  classification = 'Bekasi'\n",
        "\n",
        "print(f'{temp}C is {classification}')"
      ],
      "metadata": {
        "colab": {
          "base_uri": "https://localhost:8080/"
        },
        "id": "S4jSp02-2C0i",
        "outputId": "a3d662fd-c75f-4a74-aa23-9c0c4c4d55a2"
      },
      "execution_count": 73,
      "outputs": [
        {
          "output_type": "stream",
          "name": "stdout",
          "text": [
            "masukkannilai temperature dalam celcius: 35\n",
            "35C is Bekasi\n"
          ]
        }
      ]
    },
    {
      "cell_type": "code",
      "source": [
        "# challenge Time\n",
        "age = int(input('Masukkan umur: '))\n",
        "genre = input('Pilih genre yang disukai (action/romantis): ').lower()\n",
        "service = input('Bersedia menonton iklan (Ya/Tidak)? ').lower()\n",
        "\n",
        "if service == 'ya':\n",
        "  recomendation = 'Layanan E'\n",
        "elif age < 18:\n",
        "  if genre == 'action':\n",
        "    recomendation = 'Layanan A'\n",
        "  elif genre == 'romantis':\n",
        "    recomendation = 'Layanan B'\n",
        "  else:\n",
        "    recomendation = 'Layanan E'\n",
        "else:\n",
        "  if genre == 'action':\n",
        "    recomendation = 'Layanan C'\n",
        "  elif genre == 'romantis':\n",
        "    recomendation = 'Layanan D'\n",
        "  else:\n",
        "    recomendation = 'Layanan E'\n",
        "\n",
        "\n",
        "print(f'Rekomedasi layanan untuk genre favorit Anda adalah {recomendation}')"
      ],
      "metadata": {
        "colab": {
          "base_uri": "https://localhost:8080/"
        },
        "id": "NWx_ngVH4BYS",
        "outputId": "c62522a5-7e4b-45f1-a042-1461e82a4e71"
      },
      "execution_count": 79,
      "outputs": [
        {
          "output_type": "stream",
          "name": "stdout",
          "text": [
            "Masukkan umur: 40\n",
            "Pilih genre yang disukai (action/romantis): horor\n",
            "Bersedia menonton iklan (Ya/Tidak)? ya\n",
            "Rekomedasi layanan untuk genre favorit Anda adalah Layanan E\n"
          ]
        }
      ]
    },
    {
      "cell_type": "code",
      "source": [],
      "metadata": {
        "id": "wiGCjNbh7Yo7"
      },
      "execution_count": null,
      "outputs": []
    }
  ]
}